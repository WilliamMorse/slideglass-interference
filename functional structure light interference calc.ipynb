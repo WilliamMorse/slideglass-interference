{
 "cells": [
  {
   "cell_type": "code",
   "execution_count": 19,
   "metadata": {
    "collapsed": false
   },
   "outputs": [
    {
     "name": "stdout",
     "output_type": "stream",
     "text": [
      "0.09876540000004752\n",
      "0.0987654\n",
      "0.099\n"
     ]
    }
   ],
   "source": [
    "# silly math\n",
    "import mpmath as mpm\n",
    "mpm.mp.prec=10\n",
    "number = 12345.0987654\n",
    "print(number % 1)\n",
    "print(float(str(number)[str(number).index('.'):]))\n",
    "print(mp.fmod(number, 1))\n"
   ]
  },
  {
   "cell_type": "markdown",
   "metadata": {
    "collapsed": false
   },
   "source": [
    "https://en.wikipedia.org/wiki/File:Partial_transmittance.gif\n",
    "\n",
    "Here are all the equations we will use in each function: \n",
    "\n",
    "Snell's Law:\n",
    "* $nI*sin(thetaI) = nT*sin(thetaT)$\n",
    "* $thetaT= arcsin((nI/nT)*sin(thetaI))$\n",
    "\n",
    "Optical Path Length (OPL):\n",
    "* $OPL = n*d$\n",
    "\n",
    "There are two optical path lengths to consider:\n",
    "* $opl1 = m*2*d*sin(thetaI)tan(thetaT)$ where $m$ is a integer between 0 and $\\infty$\n",
    "* $opl2 = m*2*d*(sec(thetaT))$ where $m$ is a integer between 0 and $\\infty$\n",
    "\n",
    "OPL diference:\n",
    "* $oplD = oplM - opl1$ we want to compare all the optical path lengths with the first one that has one reflection. \n",
    "\n",
    "Phase from OPL or OPL difference:\n",
    "* $phase = (2*pi*((OPL/wavelength)\\%1)$\n",
    "* $phase = 2*pi*arcsin(sin(2*pi*(OPL/wavelength)))$\n",
    "\n",
    "Reflection and Transmission Coeffecents with snell's law to eliminate refractive index:\n",
    "* $rPerp = -(sin(thetaI-thetaT))/(sin(thetaI+thetaT))$\n",
    "* $rParr = +(tan(thetaI-thetaT))/(tan(thetaI+thetaT))$\n",
    "* $tPerp = +(2*cos(thetaI)sin(thetaT))/(sin(thetaI+thetaT))$\n",
    "* $tParr = +(2*cos(thetaI)sin(thetaT))/(sin(thetaI+thetaT)*cos(thetaI-thetaT))$\n",
    "\n",
    "Electric field from reflection and transmission coefecents:\n",
    "* $E_{0t} + E_{0r} = E_{0i}$\n",
    "* $E_{0r}==$\n",
    "\n",
    "Phase shift after reflection:\n",
    "* $ $\n",
    "\n",
    "\n",
    "add_two_phases_vectorally"
   ]
  },
  {
   "cell_type": "code",
   "execution_count": 0,
   "metadata": {
    "collapsed": false
   },
   "outputs": [
   ],
   "source": [
   ]
  },
  {
   "cell_type": "code",
   "execution_count": 24,
   "metadata": {
    "collapsed": false
   },
   "outputs": [
   ],
   "source": [
    "import mpmath as mp\n",
    "\n",
    "def thetaT_from_snell(theta1, n1, n2):\n",
    "    theta2 = mp.asin((n1/n2)*mp.sin(theta1))\n",
    "    return theta2\n",
    "\n",
    "#thest two are from the geometry of the problem.\n",
    "def opl_1(m, d, thetaI, thetaT):\n",
    "    '''\n",
    "    computes the optical path length outside of the slideglass\n",
    "    '''\n",
    "    opl1 = m*2*d*mp.sin(thetaI)*mp.tan(thetaT)\n",
    "    return opl1\n",
    "\n",
    "def opl_2(m, d, thetaI, thetaT):\n",
    "    opl2 = m*2*d*(mp.sec(thetaT))\n",
    "    return opl2\n",
    "\n",
    "def generate_total_opl(numberOfRays, thetaI, n1, n2, d):\n",
    "    thetaT = thetaT_from_snell(thetaI, n1, n2)\n",
    "    opticalPathLengthList = []\n",
    "    for m in range(numberOfRays):\n",
    "        externalPath = opl_1((numberOfRays - 1 - m), d, thetaI, thetaT)\n",
    "        internalPath = opl_2(m, d, thetaI, thetaT)\n",
    "        oplTotal = externalPath + internalPath\n",
    "        opticalPathLengthList.append(oplTotal)\n",
    "    return(opticalPathLengthList, thetaT)\n",
    "\n",
    "def calculate_opl_difference(numberOfRays, thetaI, n1, n2, d):\n",
    "    '''\n",
    "    make sure the first one is the shortest path we compare everything else to that one. \n",
    "    '''\n",
    "    opticalPathLengthList = generate_total_opl(numberOfRays, thetaI, n1, n2, d)\n",
    "    opticalPathLengthDifferenceList = []\n",
    "    shortPath = opticalPathLengthList[0]\n",
    "    for i, pathLength in enumerate(opticalPathLengthList):\n",
    "        oplDiff = pathLength - shortPath\n",
    "        opticalPathLengthDifferenceList.append(oplDiff)\n",
    "    return(opticalPathLengthDifferenceList)\n",
    "\n",
    "def fresnel_coeff(thetaI, thetaT):\n",
    "    coeff = {}\n",
    "    coeff['rPerp'] = -(mp.sin(thetaI-thetaT))/(mp.sin(thetaI+thetaT))\n",
    "    coeff['rParr'] = +(mp.tan(thetaI-thetaT))/(mp.tan(thetaI+thetaT))\n",
    "    coeff['tPerp'] = +(2*mp.cos(thetaI)*mp.sin(thetaT))/(mp.sin(thetaI+thetaT))\n",
    "    coeff['tParr'] = +(2*mp.cos(thetaI)*mp.sin(thetaT))/(mp.sin(thetaI+thetaT)*mp.cos(thetaI-thetaT))\n",
    "    return(coeff)\n",
    "\n",
    "#polarization angle = polAng\n",
    "\n",
    "def total_path_E_field_amplitude(numberOfRays, thetaI, thetaT, e0Perp = 1, e0Parr = 1):\n",
    "    n1ToN2Coeff = fresnel_coeff(thetaI, thetaT)\n",
    "    eFields = {'ePerp': [n1ToN2Coeff['rPerp']*e0Perp], 'eParr': [n1ToN2Coeff['rParr']*e0Parr]} # save the primary reflection\n",
    "    '''\n",
    "    r\n",
    "    tRT\n",
    "    tRRRT\n",
    "    tRRRRRT\n",
    "    ...etc\n",
    "    '''\n",
    "    n2ToN1Coeff = fresnel_coeff(thetaT, thetaI)\n",
    "    for i in range(1, numberOfRays): # for any additional rays calculate the total E field\n",
    "        numberOfInternalReflections = (i*2)-1\n",
    "        ePerp = n1ToN2Coeff['tPerp'] * n2ToN1Coeff['rPerp']**numberOfInternalReflections * n2ToN1Coeff['tPerp'] * e0Perp\n",
    "        eParr = n1ToN2Coeff['tParr'] * n2ToN1Coeff['rParr']**numberOfInternalReflections * n2ToN1Coeff['tParr'] * e0Parr\n",
    "        eFields['ePerp'].append(ePerp)\n",
    "        eFields['eParr'].append(eParr)\n",
    "    return(eFields)"
   ]
  },
  {
   "cell_type": "code",
   "execution_count": 27,
   "metadata": {
    "collapsed": false
   },
   "outputs": [
   ],
   "source": [
    "# example:\n",
    "# Constants\n",
    "numberOfRays = 5\n",
    "n1 = 1.0\n",
    "n2 = 1.45\n",
    "wavelength = 650.0E-6\n",
    "thetaI = mp.pi/4\n",
    "d = 0.1E-3#mp.sqrt(2)/2.0\n",
    "dtheta = 6.0E-3 # 6 milliradians (three on each side of 45 deg)\n",
    "\n",
    "oplList, thetaT = generate_total_opl(numberOfRays, thetaI, n1, n2, d)\n",
    "eFieldAmplitudes = total_path_E_field_amplitude(numberOfRays, thetaI, thetaT)\n",
    "\n"
   ]
  },
  {
   "cell_type": "code",
   "execution_count": 23,
   "metadata": {
    "collapsed": false
   },
   "outputs": [
    {
     "name": "stdout",
     "output_type": "stream",
     "text": [
      "{'eParr': [mpf('0.080078'), mpf('-0.07959'), mpf('-0.00051022'), mpf('-3.2745e-6'), mpf('-2.1013e-8')], 'ePerp': [mpf('-0.28271'), mpf('0.26025'), mpf('0.020752'), mpf('0.0016613'), mpf('0.00013256')]}\n"
     ]
    }
   ],
   "source": [
    "# Tests\n",
    "# Constants\n",
    "n1 = 1.0\n",
    "n2 = 1.45\n",
    "wavelength = 650.0E-6\n",
    "thetaI = mp.pi/4\n",
    "d = 0.1E-3#mp.sqrt(2)/2.0\n",
    "dtheta = 6.0E-3 # 6 milliradians (three on each side of 45 deg)\n",
    "\n",
    "thetaT = thetaT_from_snell(thetaI, n1, n2)\n",
    "#print(fresnel_coeff(thetaI, thetaT))\n",
    "#print(phase_shift_on_reflection(thetaI, thetaT))\n",
    "\n",
    "print(total_path_E_field(5, thetaI, thetaT))"
   ]
  },
  {
   "cell_type": "markdown",
   "metadata": {
    "collapsed": false
   },
   "source": [
    "#### For the case of three interfereing rays:\n",
    "\n",
    "|         | external ray | Internal ray |\n",
    "|---------|--------------|--------------|\n",
    "| ray one | 0            | 2            |\n",
    "| ray two | 1            | 1            |\n",
    "|ray three| 2            | 0            |"
   ]
  },
  {
   "cell_type": "code",
   "execution_count": 4,
   "metadata": {
    "collapsed": false
   },
   "outputs": [
    {
     "name": "stdout",
     "output_type": "stream",
     "text": [
      "1\n",
      "2\n",
      "3\n",
      "4\n",
      "5\n",
      "6\n",
      "7\n",
      "8\n",
      "9\n"
     ]
    }
   ],
   "source": [
    "hello = 0\n",
    "for i in range(1, 10):\n",
    "    hello += 3\n",
    "    print(i)"
   ]
  },
  {
   "cell_type": "code",
   "execution_count": 3,
   "metadata": {
    "collapsed": false
   },
   "outputs": [
    {
     "name": "stdout",
     "output_type": "stream",
     "text": [
      "hi\n"
     ]
    }
   ],
   "source": [
    "for i in range(1, 2):\n",
    "    print('hi')"
   ]
  },
  {
   "cell_type": "code",
   "execution_count": 0,
   "metadata": {
    "collapsed": false
   },
   "outputs": [
   ],
   "source": [
    "# graveyard:\n",
    "\n",
    "\n",
    "def total_path_reflectance_and_transmitance(numberOfRays, thetaI, n1, n2):\n",
    "    '''\n",
    "    r\n",
    "    tRT\n",
    "    tRRRT\n",
    "    tRRRRRT\n",
    "    ...etc\n",
    "    '''\n",
    "    \n",
    "    thetaT = thetaT_from_snell(thetaI, n1, n2)\n",
    "    n1ToN2Coeff = fresnel_coeff(thetaI, thetaT)\n",
    "    n2ToN1Coeff = fresnel_coeff(thetaT, thetaI)\n",
    "    \n",
    "    \n",
    "    R1Perp = (n1ToN2Coeff['rPerp'])**2\n",
    "    R1Parr = (n1ToN2Coeff['rParr'])**2\n",
    "    T1Perp = 1 - R1Perp\n",
    "    T1Parr = 1 - R1Parr\n",
    "    \n",
    "    R2Perp = (n2ToN1Coeff['rPerp'])**2\n",
    "    R2Parr = (n2ToN1Coeff['rParr'])**2\n",
    "    T2Perp = 1 - R2Perp\n",
    "    T2Parr = 1 - R2Parr\n",
    "    \n",
    "    #intensityByPerpAndParr = {'Perp': [R1Perp], 'Parr':[R1Parr]}\n",
    "    def average_silly(a, b): # DANGER THIS IS THE WRONG WAY TO DO THIS!!!!!!!!!!!!!!!!!!!!!!!!!!!!!!!!!!!!!!!!!!!!!!!!!!!!!!!!!!!!!!!!!!!!!!!!!!!!!!!!!!!!!!!!!!!!!!\n",
    "        c = (a+b)/(2)\n",
    "        return(c)\n",
    "    \n",
    "    refTransTot = [average_silly(R1Perp, R1Parr)]\n",
    "    \n",
    "    for i in range(1, numberOfRays):\n",
    "        \n",
    "        refTransPerp = T1Perp * R2Perp**i * T2Perp # product of the reflectance and transmittance\n",
    "        refTransParr = T1Parr * R2Parr**i * T2Parr\n",
    "        \n",
    "        #intensityByPerpAndParr['Perp'].append(refTransPerp)\n",
    "        #intensityByPerpAndParr['Parr'].append(refTransParr)\n",
    "        refTransTot.append(average_silly(refTransPerp, refTransParr))\n",
    "        \n",
    "    #return intensityByPerpAndParr\n",
    "    return refTransTot\n",
    "    \n",
    "\n",
    "def phase_shift_on_reflection(thetaI, thetaT):\n",
    "    coeff = fresnel_coeff(thetaI, thetaT)\n",
    "    angle = mp.atan2(coeff['rPerp'], coeff['rParr'])\n",
    "    return angle*(180/mp.pi)"
   ]
  }
 ],
 "metadata": {
  "kernelspec": {
   "display_name": "Python 3 (Anaconda)",
   "language": "python",
   "name": "anaconda3"
  },
  "language_info": {
   "codemirror_mode": {
    "name": "ipython",
    "version": 3
   },
   "file_extension": ".py",
   "mimetype": "text/x-python",
   "name": "python",
   "nbconvert_exporter": "python",
   "pygments_lexer": "ipython3",
   "version": "3.5.3"
  }
 },
 "nbformat": 4,
 "nbformat_minor": 0
}